{
 "cells": [
  {
   "cell_type": "code",
   "execution_count": 2,
   "id": "cac83474-d2c3-4dac-b791-e30bdc0752bd",
   "metadata": {},
   "outputs": [
    {
     "name": "stdin",
     "output_type": "stream",
     "text": [
      "Enter the YouTube video URL:  https://www.youtube.com/watch?v=kRNAKw2sA1A\n"
     ]
    },
    {
     "name": "stdout",
     "output_type": "stream",
     "text": [
      "Cleaned URL: https://www.youtube.com/watch?v=kRNAKw2sA1A\n",
      "Title: Hazrat Umar r.a || music || Hafiz Aadil siddique\n",
      "An error occurred: HTTP Error 400: Bad Request\n"
     ]
    }
   ],
   "source": [
    "from pytube import YouTube\n",
    "from urllib.parse import urlparse, parse_qs\n",
    "\n",
    "def clean_url(url):\n",
    "    parsed_url = urlparse(url)\n",
    "    if parsed_url.netloc == \"youtu.be\":\n",
    "        video_id = parsed_url.path[1:]\n",
    "        clean_url = f\"https://www.youtube.com/watch?v={video_id}\"\n",
    "    elif parsed_url.netloc in (\"www.youtube.com\", \"youtube.com\"):\n",
    "        query = parse_qs(parsed_url.query)\n",
    "        video_id = query.get(\"v\")\n",
    "        if video_id:\n",
    "            clean_url = f\"https://www.youtube.com/watch?v={video_id[0]}\"\n",
    "        else:\n",
    "            clean_url = url\n",
    "    else:\n",
    "        clean_url = url\n",
    "    return clean_url\n",
    "\n",
    "def download_video(url):\n",
    "    try:\n",
    "        yt = YouTube(url)\n",
    "        print(f\"Title: {yt.title}\")\n",
    "        stream = yt.streams.get_highest_resolution()\n",
    "        stream.download()\n",
    "        print(\"Download completed!\")\n",
    "    except Exception as e:\n",
    "        print(f\"An error occurred: {e}\")\n",
    "\n",
    "if __name__ == \"__main__\":\n",
    "    url = input(\"Enter the YouTube video URL: \")\n",
    "    cleaned_url = clean_url(url)\n",
    "    print(f\"Cleaned URL: {cleaned_url}\")  # Debug information\n",
    "    download_video(cleaned_url)\n"
   ]
  },
  {
   "cell_type": "code",
   "execution_count": null,
   "id": "3d94006d-2ab9-4878-9112-3eed68d3bfab",
   "metadata": {},
   "outputs": [],
   "source": []
  }
 ],
 "metadata": {
  "kernelspec": {
   "display_name": "Python 3 (ipykernel)",
   "language": "python",
   "name": "python3"
  },
  "language_info": {
   "codemirror_mode": {
    "name": "ipython",
    "version": 3
   },
   "file_extension": ".py",
   "mimetype": "text/x-python",
   "name": "python",
   "nbconvert_exporter": "python",
   "pygments_lexer": "ipython3",
   "version": "3.12.3"
  }
 },
 "nbformat": 4,
 "nbformat_minor": 5
}
